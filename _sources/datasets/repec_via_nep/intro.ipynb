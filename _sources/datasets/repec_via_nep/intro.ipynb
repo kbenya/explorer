{
 "cells": [
  {
   "cell_type": "markdown",
   "id": "greater-sweden",
   "metadata": {},
   "source": [
    "# Check Head"
   ]
  },
  {
   "cell_type": "code",
   "execution_count": 1,
   "id": "weighted-boost",
   "metadata": {},
   "outputs": [],
   "source": [
    "import pandas as pd"
   ]
  },
  {
   "cell_type": "code",
   "execution_count": null,
   "id": "liberal-paper",
   "metadata": {},
   "outputs": [],
   "source": [
    "df_paper = pd.read_csv(\"paper.csv\")"
   ]
  },
  {
   "cell_type": "code",
   "execution_count": null,
   "id": "neither-paper",
   "metadata": {},
   "outputs": [],
   "source": [
    "df_paper.head().T"
   ]
  },
  {
   "cell_type": "code",
   "execution_count": null,
   "id": "liberal-nep",
   "metadata": {},
   "outputs": [],
   "source": [
    "df_nep = pd.read_csv(\"nep.csv\")"
   ]
  },
  {
   "cell_type": "code",
   "execution_count": null,
   "id": "neither-nep",
   "metadata": {},
   "outputs": [],
   "source": [
    "df_nep.head().T"
   ]
  },
  {
   "cell_type": "code",
   "execution_count": null,
   "id": "liberal-nep_inclusion",
   "metadata": {},
   "outputs": [],
   "source": [
    "df_nep_inclusion = pd.read_csv(\"nep_inclusion.csv\")"
   ]
  },
  {
   "cell_type": "code",
   "execution_count": null,
   "id": "neither-nep_inclusion",
   "metadata": {},
   "outputs": [],
   "source": [
    "df_nep_inclusion.head().T"
   ]
  },
  {
   "cell_type": "code",
   "execution_count": null,
   "id": "liberal-nep_issue",
   "metadata": {},
   "outputs": [],
   "source": [
    "df_nep_issue = pd.read_csv(\"nep_issue.csv\")"
   ]
  },
  {
   "cell_type": "code",
   "execution_count": null,
   "id": "neither-nep_issue",
   "metadata": {},
   "outputs": [],
   "source": [
    "df_nep_issue.head().T"
   ]
  },
  {
   "cell_type": "code",
   "execution_count": null,
   "id": "liberal-authorship",
   "metadata": {},
   "outputs": [],
   "source": [
    "df_authorship = pd.read_csv(\"authorship.csv\")"
   ]
  },
  {
   "cell_type": "code",
   "execution_count": null,
   "id": "neither-authorship",
   "metadata": {},
   "outputs": [],
   "source": [
    "df_authorship.head().T"
   ]
  },
  {
   "cell_type": "code",
   "execution_count": null,
   "id": "greater-thingy",
   "metadata": {},
   "outputs": [],
   "source": []
  }
 ],
 "metadata": {
  "kernelspec": {
   "display_name": "Python 3",
   "language": "python",
   "name": "python3"
  },
  "language_info": {
   "codemirror_mode": {
    "name": "ipython",
    "version": 3
   },
   "file_extension": ".py",
   "mimetype": "text/x-python",
   "name": "python",
   "nbconvert_exporter": "python",
   "pygments_lexer": "ipython3",
   "version": "3.8.10"
  }
 },
 "nbformat": 4,
 "nbformat_minor": 5
}
